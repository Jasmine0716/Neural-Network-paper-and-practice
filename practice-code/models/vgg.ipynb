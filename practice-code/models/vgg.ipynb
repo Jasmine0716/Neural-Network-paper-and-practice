{
  "nbformat": 4,
  "nbformat_minor": 0,
  "metadata": {
    "colab": {
      "name": "vgg.ipynb",
      "provenance": [],
      "collapsed_sections": []
    },
    "kernelspec": {
      "name": "python3",
      "display_name": "Python 3"
    }
  },
  "cells": [
    {
      "cell_type": "code",
      "metadata": {
        "id": "EZWjlB9YcSLz"
      },
      "source": [
        "import torch\n",
        "import torch.nn as nn"
      ],
      "execution_count": null,
      "outputs": []
    },
    {
      "cell_type": "code",
      "metadata": {
        "id": "9sjHgLFhgsD9"
      },
      "source": [
        "cfg = {\n",
        "    'A':[64, 'M', 128, 'M', 256, 256, 'M', 512, 512, 'M', 512, 512, 'M'],\n",
        "    'B':[64, 64, 'M', 128, 128, 'M', 256, 256, 'M', 512, 512, 'M', 512, 512, 'M'],\n",
        "    'C':[64, 64, 'M', 128, 128, 'M', 256, 256, 256, 'M', 512, 512, 512, 'M', 512, 512, 512, 'M'],\n",
        "    'D':[64, 64, 'M', 128, 128, 'M', 256, 256, 256, 256, 'M', 512, 512, 512, 512, 'M', 512, 512, 512, 512, 'M']\n",
        "}"
      ],
      "execution_count": null,
      "outputs": []
    },
    {
      "cell_type": "code",
      "metadata": {
        "id": "38qVF631caFZ"
      },
      "source": [
        "class VGG(nn.Module):\n",
        "  \n",
        "  def __init__(self, vgg_type, batchnorm, init_weights):\n",
        "    super(VGG, self).__init__()\n",
        "    self.features = self.make_layers(cfg[vgg_type], batchnorm)\n",
        "    #adapted to the size of cifar10\n",
        "    #reference:https://github.com/kuangliu/pytorch-cifar/blob/master/models/vgg.py\n",
        "    self.avgpool = nn.AvgPool2d(kernel_size=1,stride=1)\n",
        "    self.classifier = nn.Linear(512,10)\n",
        "\n",
        "  def forward(self,x):\n",
        "    x = self.features(x)\n",
        "    x = self.avgpool(x)\n",
        "    x = torch.flatten(x,1)\n",
        "    x = self.classifier(x)\n",
        "    return x\n",
        "\n",
        "  \n",
        "\n",
        "  def make_layers(self, cfg, batchnorm=False):\n",
        "    layers = [] #list\n",
        "    in_channels = 3\n",
        "    for v in cfg:\n",
        "      if v == 'M':\n",
        "        layers += [nn.MaxPool2d(kernel_size=2, stride=2)]\n",
        "      else:\n",
        "        conv2d = nn.Conv2d(in_channels, v, kernel_size=3, padding=1)\n",
        "        in_channels = v\n",
        "        if batchnorm:\n",
        "          layers += [conv2d, nn.BatchNorm2d(v), nn.ReLU(inplace=True)]\n",
        "        else:\n",
        "          layers += [conv2d, nn.ReLU(inplace=True)]\n",
        "    return nn.Sequential(*layers) #返回的是list中的内容，而不是list本身\n"
      ],
      "execution_count": null,
      "outputs": []
    },
    {
      "cell_type": "code",
      "metadata": {
        "id": "v9lVEc1QwHgh"
      },
      "source": [
        "def VGG11(batchnorm=False, init_weight=True):\n",
        "  return VGG('A', batchnorm, init_weight)\n",
        "\n",
        "def VGG13(batchnorm=False, init_weight=True):\n",
        "  return VGG('B', batchnorm, init_weight)\n",
        "\n",
        "def VGG16(batchnorm=False, init_weight=True):\n",
        "  return VGG('C', batchnorm, init_weight)\n",
        "\n",
        "def VGG19(batchnorm=False, init_weight=True):\n",
        "  return VGG('D', batchnorm, init_weight)"
      ],
      "execution_count": null,
      "outputs": []
    }
  ]
}