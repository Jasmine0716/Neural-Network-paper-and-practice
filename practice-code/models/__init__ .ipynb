{
  "nbformat": 4,
  "nbformat_minor": 0,
  "metadata": {
    "colab": {
      "name": "__init__.ipynb",
      "provenance": [],
      "collapsed_sections": []
    },
    "kernelspec": {
      "name": "python3",
      "display_name": "Python 3"
    }
  },
  "cells": [
    {
      "cell_type": "code",
      "metadata": {
        "id": "V3Zp6nIltoHL"
      },
      "source": [
        "from .vgg import VGG11\n",
        "from .vgg import VGG13\n",
        "from .vgg import VGG16\n",
        "from .vgg import VGG19\n",
        "from alexnet import AlexNet"
      ],
      "execution_count": null,
      "outputs": []
    }
  ]
}