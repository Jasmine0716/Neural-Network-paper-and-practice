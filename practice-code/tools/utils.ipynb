{
  "nbformat": 4,
  "nbformat_minor": 0,
  "metadata": {
    "colab": {
      "name": "utils.ipynb",
      "provenance": [],
      "collapsed_sections": []
    },
    "kernelspec": {
      "name": "python3",
      "display_name": "Python 3"
    }
  },
  "cells": [
    {
      "cell_type": "code",
      "metadata": {
        "id": "oCuyw900k0Y3"
      },
      "source": [
        "import torch.nn as nn\n",
        "import torch\n",
        "import matplotlib.pyplot as plt\n",
        "import numpy as np\n",
        "import torchvision\n",
        "import torchvision.transforms as transforms"
      ],
      "execution_count": null,
      "outputs": []
    },
    {
      "cell_type": "code",
      "metadata": {
        "id": "v3LBfPFskw64"
      },
      "source": [
        "def _initialize_weights(net):\n",
        "    for m in net.modules():\n",
        "      if isinstance(m, nn.Conv2d):\n",
        "        nn.init.kaiming_normal(m.weight, mode='fan_out', nonlinearity='relu')\n",
        "        if m.bias is not None:\n",
        "          nn.init.constant_(m.bias,0)\n",
        "      elif isinstance(m, nn.BatchNorm2d):\n",
        "        nn.init.constant_(m.weight, 1)\n",
        "        nn.init.constant_(m.bias, 0)\n",
        "      elif isinstance(m, nn.Linear):\n",
        "        nn.init.normal(m.weight, 0, 0.01)\n",
        "        nn.init.constant_(m.bias, 0)"
      ],
      "execution_count": null,
      "outputs": []
    },
    {
      "cell_type": "code",
      "metadata": {
        "id": "PmziNG9rk_4_"
      },
      "source": [
        "def LoadData(DataType):\n",
        "  if DataType == 'Cifar10':\n",
        "    transform = transforms.Compose(\n",
        "        [transforms.ToTensor()]\n",
        "    )\n",
        "    trainset = torchvision.datasets.CIFAR10(root='../data/train',train=True,download=True,transform=transform)\n",
        "    trainLoader = torch.utils.data.DataLoader(trainset,batch_size=4,shuffle=True,num_workers=2)\n",
        "    testset = torchvision.datasets.CIFAR10(root='../data/test',train=False,download=True,transform=transform)\n",
        "    testLoader = torch.utils.data.DataLoader(trainset,batch_size=4,shuffle=False,num_workers=2)\n",
        "\n",
        "    classes = ('plane', 'car', 'bird', 'cat',\n",
        "              'deer', 'dog', 'frog', 'horse', 'ship', 'truck')\n",
        "    Data = {'trainset':trainLoader, 'testset':testLoader, 'classes':classes}\n",
        "    return Data"
      ],
      "execution_count": null,
      "outputs": []
    },
    {
      "cell_type": "code",
      "metadata": {
        "id": "gh-72pPblAxN"
      },
      "source": [
        "def imshow(img):\n",
        "  plt.imshow(np.transpose(img,(1,2,0)))\n",
        "  plt.show()\n",
        "\n",
        "def ShowTrainSet(DataType):\n",
        "  data = LoadData(DataType)\n",
        "  dataiter = iter(data['trainset'])\n",
        "  images, labels = dataiter.next()\n",
        "  classes = data['classes']\n",
        "  imshow(torchvision.utils.make_grid(images))\n",
        "  print(' '.join('%5s' % classes[labels[j]] for j in range(4)))"
      ],
      "execution_count": null,
      "outputs": []
    }
  ]
}